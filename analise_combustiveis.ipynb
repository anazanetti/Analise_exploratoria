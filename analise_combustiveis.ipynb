{
 "cells": [
  {
   "cell_type": "markdown",
   "metadata": {},
   "source": [
    "##### Bibliotecas\n"
   ]
  },
  {
   "cell_type": "code",
   "execution_count": 47,
   "metadata": {},
   "outputs": [],
   "source": [
    "import os\n",
    "import numpy as np\n",
    "import pandas as pd"
   ]
  },
  {
   "cell_type": "markdown",
   "metadata": {},
   "source": [
    "##### Globais"
   ]
  },
  {
   "cell_type": "code",
   "execution_count": 49,
   "metadata": {},
   "outputs": [],
   "source": [
    "diretorio        = 'datasets'\n",
    "arquivo_extensao = '.csv'\n",
    "lista_arquivos   = []"
   ]
  },
  {
   "cell_type": "markdown",
   "metadata": {},
   "source": [
    "##### Análise da Estrutura dos Dados (antes da limpeza)\n",
    "\n",
    "{texto}"
   ]
  },
  {
   "cell_type": "code",
   "execution_count": null,
   "metadata": {},
   "outputs": [],
   "source": [
    "df_dados          = pd.DataFrame()    \n",
    "df_estrutra_dados = pd.DataFrame()\n",
    "\n",
    "# Lista os arquivos do diretório\n",
    "for arquivo in os.listdir(diretorio):\n",
    "    if arquivo.endswith(arquivo_extensao):\n",
    "       lista_arquivos.append(arquivo)\n",
    "\n",
    "# Carrega o DataFrame \n",
    "for dataset in lista_arquivos:\n",
    "    caminho_arquivo   = os.path.join(diretorio, dataset)\n",
    "    df_dados          = pd.read_csv(caminho_arquivo, sep=';', low_memory=False)\n",
    "    df_estrutra_dados = pd.concat([df_estrutra_dados, df_dados], ignore_index=True)\n",
    "\n",
    "print(\"Dimensões da base\")\n",
    "print(\"-----------------\")\n",
    "print(\"\")\n",
    "print(f\"Linhas: {len(df_estrutra_dados)}\")\n",
    "print(f\"Colunas: {len(df_estrutra_dados.iloc[0])}\")\n",
    "    \n",
    "print(\"\")\n",
    "print(\"\") \n",
    "print(\"Estrutura\")\n",
    "print(\"---------\")\n",
    "print(\"\")\n",
    "print(df_estrutra_dados.info())\n",
    "\n",
    "print(\"\")\n",
    "print(\"\") \n",
    "print(\"Qtde de campos nulos\")\n",
    "print(\"--------------------\")\n",
    "print(\"\")\n",
    "print(df_estrutra_dados.isnull().sum())\n",
    "\n",
    "# Visualização do DataFrame (Head e Tail)\n",
    "print(display(df_estrutra_dados)) "
   ]
  },
  {
   "cell_type": "markdown",
   "metadata": {},
   "source": [
    "##### Carregamento do Conjunto de Dados (após a limpeza)\n",
    "{texto}"
   ]
  },
  {
   "cell_type": "code",
   "execution_count": null,
   "metadata": {},
   "outputs": [],
   "source": [
    "df_dados        = pd.DataFrame()\n",
    "df_dados_limpos = pd.DataFrame()\n",
    "\n",
    "for dataset in lista_arquivos:\n",
    "    caminho_arquivo = os.path.join(diretorio, dataset)\n",
    "    df_dados        = pd.read_csv(caminho_arquivo,\n",
    "                                  sep=';', thousands = '.', decimal = ',', \n",
    "                                  dtype = {'Regiao - Sigla': 'category',\n",
    "                                           'Estado - Sigla': 'category',\n",
    "                                           'Valor de Compra': np.float64})\n",
    "    \n",
    "    df_dados_limpos = pd.concat([df_dados_limpos, df_dados], ignore_index=True)\n",
    "    \n",
    "df_dados_limpos.drop(columns=['Nome da Rua',\n",
    "                              'Numero Rua',\n",
    "                              'Complemento',\n",
    "                              'Bairro',\n",
    "                              'Cep',\n",
    "                              'Valor de Compra'], inplace=True)    \n",
    "df_dados_limpos.info()"
   ]
  }
 ],
 "metadata": {
  "kernelspec": {
   "display_name": "Python 3",
   "language": "python",
   "name": "python3"
  },
  "language_info": {
   "codemirror_mode": {
    "name": "ipython",
    "version": 3
   },
   "file_extension": ".py",
   "mimetype": "text/x-python",
   "name": "python",
   "nbconvert_exporter": "python",
   "pygments_lexer": "ipython3",
   "version": "3.11.3"
  },
  "orig_nbformat": 4
 },
 "nbformat": 4,
 "nbformat_minor": 2
}
