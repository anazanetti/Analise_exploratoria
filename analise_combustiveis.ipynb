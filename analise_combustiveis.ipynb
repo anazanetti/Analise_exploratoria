{
 "cells": [
  {
   "cell_type": "markdown",
   "metadata": {},
   "source": [
    "##### Bibliotecas\n"
   ]
  },
  {
   "cell_type": "code",
   "execution_count": 65,
   "metadata": {},
   "outputs": [],
   "source": [
    "import os\n",
    "import numpy as np\n",
    "import pandas as pd\n",
    "import openpyxl #biblioteca para ler o arquivo .xlsx\n",
    "import plotly.express as px\n",
    "import plotly.io as pio\n",
    "import matplotlib.pyplot as plt\n",
    "import plotly.graph_objects as go\n",
    "import seaborn as sns\n",
    "#from plotly.subplots import make_subplots"
   ]
  },
  {
   "cell_type": "code",
   "execution_count": 66,
   "metadata": {},
   "outputs": [],
   "source": [
    "pio.renderers.default = 'notebook'  # Configura o renderizador para notebook"
   ]
  },
  {
   "cell_type": "markdown",
   "metadata": {},
   "source": [
    "##### Globais"
   ]
  },
  {
   "cell_type": "code",
   "execution_count": 67,
   "metadata": {},
   "outputs": [],
   "source": [
    "diretorio        = 'datasets'\n",
    "arquivo_extensao = '.csv'"
   ]
  },
  {
   "cell_type": "markdown",
   "metadata": {},
   "source": [
    "___\n",
    "##### Conjunto de Dados\n",
    "\n",
    "Série Histórica de Preços de Combustíveis e de GLP   \n",
    "https://www.gov.br/anp/pt-br/centrais-de-conteudo/dados-abertos/serie-historica-de-precos-de-combustiveis\n",
    "\n",
    "A análise será realizada no **Conjunto de Dados semanais agrupados por semestre (2013 a 2023)**, considerando somente os **Combustíveis automotivos**, totalizando 21 arquivos csv.\n",
    "<br><br>\n",
    "___"
   ]
  },
  {
   "cell_type": "markdown",
   "metadata": {},
   "source": [
    "##### Análise da Estrutura dos Dados (antes da limpeza)\n",
    "\n"
   ]
  },
  {
   "cell_type": "code",
   "execution_count": 68,
   "metadata": {},
   "outputs": [],
   "source": [
    "df_dados          = pd.DataFrame()    \n",
    "df_estrutra_dados = pd.DataFrame()\n",
    "lista_arquivos    = []\n",
    "\n",
    "# Lista os arquivos do diretório\n",
    "for arquivo in os.listdir(diretorio):\n",
    "    if arquivo.endswith(arquivo_extensao):\n",
    "       lista_arquivos.append(arquivo) \n",
    "       \n",
    "# Carrega o DataFrame \n",
    "for dataset in lista_arquivos:\n",
    "    caminho_arquivo   = os.path.join(diretorio, dataset)\n",
    "    df_dados          = pd.read_csv(caminho_arquivo, sep=';', low_memory=False)\n",
    "    df_estrutra_dados = pd.concat([df_estrutra_dados, df_dados], ignore_index=True)"
   ]
  },
  {
   "cell_type": "markdown",
   "metadata": {},
   "source": [
    "##### Dimensões da Base de Dados"
   ]
  },
  {
   "cell_type": "code",
   "execution_count": null,
   "metadata": {},
   "outputs": [],
   "source": [
    "print(f\"Linhas: {len(df_estrutra_dados)}\")\n",
    "print(f\"Colunas: {len(df_estrutra_dados.iloc[0])}\")"
   ]
  },
  {
   "cell_type": "markdown",
   "metadata": {},
   "source": [
    "##### Estrutura da Base de Dados"
   ]
  },
  {
   "cell_type": "code",
   "execution_count": null,
   "metadata": {},
   "outputs": [],
   "source": [
    "df_estrutra_dados.info()"
   ]
  },
  {
   "cell_type": "markdown",
   "metadata": {},
   "source": [
    "##### Campos nulos"
   ]
  },
  {
   "cell_type": "code",
   "execution_count": null,
   "metadata": {},
   "outputs": [],
   "source": [
    "df_estrutra_dados.isnull().sum()"
   ]
  },
  {
   "cell_type": "markdown",
   "metadata": {},
   "source": [
    "##### Visualização do DataFrame (Head e Tail)"
   ]
  },
  {
   "cell_type": "code",
   "execution_count": null,
   "metadata": {},
   "outputs": [],
   "source": [
    "print(display(df_estrutra_dados)) "
   ]
  },
  {
   "cell_type": "markdown",
   "metadata": {},
   "source": [
    "___\n",
    "##### Análise da Estrutura dos Dados (processo de limpeza)\n",
    "\n",
    "Otimização:\n",
    "* Colunas não consideradas na análise serão excluídas do dataframe\n",
    "* A fim de um melhor aproveitamento de espaço, algumas colunas terão o seu tipo alterado"
   ]
  },
  {
   "cell_type": "code",
   "execution_count": null,
   "metadata": {},
   "outputs": [],
   "source": [
    "df_dados        = pd.DataFrame()\n",
    "df_dados_limpos = pd.DataFrame()\n",
    "lista_arquivos  = []\n",
    "\n",
    "# Lista os arquivos do diretório\n",
    "for arquivo in os.listdir(diretorio):\n",
    "    if arquivo.endswith(arquivo_extensao):\n",
    "       lista_arquivos.append(arquivo) \n",
    "\n",
    "# Carrega o DataFrame \n",
    "for dataset in lista_arquivos:\n",
    "    caminho_arquivo = os.path.join(diretorio, dataset)\n",
    "    df_dados        = pd.read_csv(caminho_arquivo,\n",
    "                                  sep=';', thousands = '.', decimal = ',',\n",
    "                                  dtype = {'Regiao - Sigla': 'category',\n",
    "                                           'Estado - Sigla': 'category',\n",
    "                                           'Valor de Compra': np.float64})\n",
    "    \n",
    "    df_dados_limpos = pd.concat([df_dados_limpos, df_dados], ignore_index=True)\n",
    "\n",
    "# Exclui colunas    \n",
    "df_dados_limpos.drop(columns=['Nome da Rua',\n",
    "                              'Numero Rua',\n",
    "                              'Complemento',\n",
    "                              'Bairro',\n",
    "                              'Cep',\n",
    "                              'Valor de Compra',\n",
    "                              'Unidade de Medida'], inplace=True)\n",
    "\n",
    "df_dados_limpos.rename(columns={'Regiao - Sigla': 'Regiao', \n",
    "                                'Estado - Sigla': 'Estado',\n",
    "                                'CNPJ da Revenda': 'CNPJ',\n",
    "                                'Data da Coleta': 'Data_Coleta',\n",
    "                                'Valor de Venda': 'Valor_Venda'}, inplace=True)\n",
    "\n",
    "# Criando colunas de mês e ano\n",
    "df_dados_limpos['Data_Coleta'] = pd.to_datetime(df_dados_limpos['Data_Coleta'], format=\"%d/%m/%Y\")\n",
    "df_dados_limpos['Ano']         = df_dados_limpos['Data_Coleta'].dt.year\n",
    "df_dados_limpos['Mes']         = df_dados_limpos['Data_Coleta'].dt.month\n",
    "                     \n",
    "df_dados_limpos.info()"
   ]
  },
  {
   "cell_type": "markdown",
   "metadata": {},
   "source": [
    "##### Visualização do DataFrame (Head e Tail)"
   ]
  },
  {
   "cell_type": "code",
   "execution_count": null,
   "metadata": {},
   "outputs": [],
   "source": [
    "print(display(df_dados_limpos)) "
   ]
  },
  {
   "cell_type": "markdown",
   "metadata": {},
   "source": [
    "___"
   ]
  }
 ],
 "metadata": {
  "kernelspec": {
   "display_name": "Python 3",
   "language": "python",
   "name": "python3"
  },
  "language_info": {
   "codemirror_mode": {
    "name": "ipython",
    "version": 3
   },
   "file_extension": ".py",
   "mimetype": "text/x-python",
   "name": "python",
   "nbconvert_exporter": "python",
   "pygments_lexer": "ipython3",
   "version": "3.11.3"
  },
  "orig_nbformat": 4
 },
 "nbformat": 4,
 "nbformat_minor": 2
}
