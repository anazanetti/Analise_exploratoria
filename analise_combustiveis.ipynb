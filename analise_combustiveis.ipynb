{
 "cells": [
  {
   "cell_type": "markdown",
   "metadata": {},
   "source": [
    "Bibliotecas"
   ]
  },
  {
   "cell_type": "code",
   "execution_count": 20,
   "metadata": {},
   "outputs": [],
   "source": [
    "import os\n",
    "import numpy as np\n",
    "import pandas as pd"
   ]
  },
  {
   "cell_type": "markdown",
   "metadata": {},
   "source": [
    "Lista arquivos do diretório"
   ]
  },
  {
   "cell_type": "code",
   "execution_count": 21,
   "metadata": {},
   "outputs": [],
   "source": [
    "def listar_diretorio(diretorio, extensao):\n",
    "    arquivos_diretorio = []\n",
    "\n",
    "    for arquivo in os.listdir(diretorio):\n",
    "        if arquivo.endswith(extensao):\n",
    "           arquivos_diretorio.append(arquivo)\n",
    "\n",
    "    return arquivos_diretorio"
   ]
  },
  {
   "cell_type": "markdown",
   "metadata": {},
   "source": [
    "Análise de Estrutura dos Dados"
   ]
  },
  {
   "cell_type": "code",
   "execution_count": 23,
   "metadata": {},
   "outputs": [],
   "source": [
    "def analisar_estrutura_dados(diretorio, arquivos_csv):\n",
    "    df_dados          = pd.DataFrame()    \n",
    "    df_estrutra_dados = pd.DataFrame()\n",
    "\n",
    "    for arquivo in arquivos_csv:\n",
    "        caminho_arquivo   = os.path.join(diretorio, arquivo)\n",
    "        df_dados          = pd.read_csv(caminho_arquivo, encoding=\"ISO-8859-1\", sep=';', low_memory=False)\n",
    "        df_estrutra_dados = pd.concat([df_estrutra_dados, df_dados], ignore_index=True)\n",
    "\n",
    "    print(\"Qtde de registros\")\n",
    "    print(\"-----------------\")\n",
    "    print(\"\")\n",
    "    print(len(df_estrutra_dados.axes[0]))    \n",
    "    \n",
    "    print(\"\")\n",
    "    print(\"\") \n",
    "    print(\"Análise da estrutura\")\n",
    "    print(\"--------------------\")\n",
    "    print(\"\")\n",
    "    df_estrutra_dados.info()\n",
    "\n",
    "    print(\"\")\n",
    "    print(\"\") \n",
    "    print(\"Qtde de campos nulos\")\n",
    "    print(\"--------------------\")\n",
    "    print(\"\")\n",
    "    print(df_estrutra_dados.isnull().sum())"
   ]
  },
  {
   "cell_type": "markdown",
   "metadata": {},
   "source": [
    "Carregamento dos datasets"
   ]
  },
  {
   "cell_type": "code",
   "execution_count": 25,
   "metadata": {},
   "outputs": [],
   "source": [
    "def carregar_arquivos(diretorio, lista_arquivos_csv):\n",
    "    df_dados              = pd.DataFrame()\n",
    "    df_dados_ano_semestre = pd.DataFrame()\n",
    "   \n",
    "    tipos_de_dados = {'Valor de Venda': np.float64,\n",
    "                      'Valor de Compra': np.float64}\n",
    "\n",
    "    for arquivo in lista_arquivos_csv:\n",
    "        caminho_arquivo = os.path.join(diretorio, arquivo)\n",
    "        df_dados        = pd.read_csv(caminho_arquivo, encoding=\"ISO-8859-1\", \n",
    "                                      sep=';', thousands = '.', decimal = ',', \n",
    "                                      dtype = {'Regiao - Sigla': 'category',\n",
    "                                               'Estado - Sigla': 'category',\n",
    "                                               'Valor de Venda': np.float64,\n",
    "                                               'Valor de Compra': np.float64,\n",
    "                                               'Regiao - Sigla': 'category'})\n",
    "        \n",
    "        # Extrai informações do nome do arquivo\n",
    "        partes_nome = arquivo.split('-')\n",
    "        ano         = partes_nome[1]\n",
    "        semestre    = partes_nome[2].split('.')[0]\n",
    "\n",
    "        # Adiciona informações de ano e semestre como colunas\n",
    "        df_dados['Ano']      = ano\n",
    "        df_dados['Semestre'] = semestre\n",
    "\n",
    "        df_dados['Ano']      = df_dados['Ano'].astype(np.int16)\n",
    "        df_dados['Semestre'] = df_dados['Semestre'].astype(np.int8)\n",
    "        \n",
    "        df_dados_ano_semestre = pd.concat([df_dados_ano_semestre, df_dados], ignore_index=True)\n",
    "        \n",
    "    return df_dados_ano_semestre"
   ]
  },
  {
   "cell_type": "markdown",
   "metadata": {},
   "source": [
    "Chamada para a Análise da estrutura dos dados"
   ]
  },
  {
   "cell_type": "code",
   "execution_count": 26,
   "metadata": {},
   "outputs": [
    {
     "name": "stdout",
     "output_type": "stream",
     "text": [
      "Qtde de registros\n",
      "-----------------\n",
      "\n",
      "10265783\n",
      "\n",
      "\n",
      "Análise da estrutura\n",
      "--------------------\n",
      "\n",
      "<class 'pandas.core.frame.DataFrame'>\n",
      "RangeIndex: 10265783 entries, 0 to 10265782\n",
      "Data columns (total 17 columns):\n",
      " #   Column             Dtype \n",
      "---  ------             ----- \n",
      " 0   ï»¿Regiao - Sigla  object\n",
      " 1   Estado - Sigla     object\n",
      " 2   Municipio          object\n",
      " 3   Revenda            object\n",
      " 4   CNPJ da Revenda    object\n",
      " 5   Nome da Rua        object\n",
      " 6   Numero Rua         object\n",
      " 7   Complemento        object\n",
      " 8   Bairro             object\n",
      " 9   Cep                object\n",
      " 10  Produto            object\n",
      " 11  Data da Coleta     object\n",
      " 12  Valor de Venda     object\n",
      " 13  Valor de Compra    object\n",
      " 14  Unidade de Medida  object\n",
      " 15  Bandeira           object\n",
      " 16  Regiao - Sigla     object\n",
      "dtypes: object(17)\n",
      "memory usage: 1.3+ GB\n",
      "\n",
      "\n",
      "Qtde de campos nulos\n",
      "--------------------\n",
      "\n",
      "ï»¿Regiao - Sigla     472856\n",
      "Estado - Sigla             0\n",
      "Municipio                  0\n",
      "Revenda                    0\n",
      "CNPJ da Revenda            0\n",
      "Nome da Rua                0\n",
      "Numero Rua              5844\n",
      "Complemento          7694977\n",
      "Bairro                 33524\n",
      "Cep                        0\n",
      "Produto                    0\n",
      "Data da Coleta             1\n",
      "Valor de Venda             1\n",
      "Valor de Compra      7049537\n",
      "Unidade de Medida          1\n",
      "Bandeira                   1\n",
      "Regiao - Sigla       9792927\n",
      "dtype: int64\n"
     ]
    }
   ],
   "source": [
    "diretorio  = 'datasets'\n",
    "\n",
    "arquivos_csv = []\n",
    "arquivos_csv = listar_diretorio(diretorio, '.csv')\n",
    "\n",
    "df_dados = pd.DataFrame()\n",
    "df_dados = analisar_estrutura_dados(diretorio, arquivos_csv)"
   ]
  },
  {
   "cell_type": "markdown",
   "metadata": {},
   "source": [
    "Principal"
   ]
  },
  {
   "cell_type": "code",
   "execution_count": 28,
   "metadata": {},
   "outputs": [
    {
     "name": "stdout",
     "output_type": "stream",
     "text": [
      "         ï»¿Regiao - Sigla Estado - Sigla  Municipio  \\\n",
      "0                       SE             SP  GUARULHOS   \n",
      "1                       SE             SP  GUARULHOS   \n",
      "2                       SE             SP  GUARULHOS   \n",
      "3                       SE             SP  GUARULHOS   \n",
      "4                       CO             DF   BRASILIA   \n",
      "...                    ...            ...        ...   \n",
      "10265778                 S             RS    LAJEADO   \n",
      "10265779                 S             RS    LAJEADO   \n",
      "10265780                 S             RS    LAJEADO   \n",
      "10265781                 S             RS    LAJEADO   \n",
      "10265782                 S             RS    LAJEADO   \n",
      "\n",
      "                                        Revenda      CNPJ da Revenda  \\\n",
      "0                      AUTO POSTO SAKAMOTO LTDA   49.051.667/0001-02   \n",
      "1                      AUTO POSTO SAKAMOTO LTDA   49.051.667/0001-02   \n",
      "2                      AUTO POSTO SAKAMOTO LTDA   49.051.667/0001-02   \n",
      "3                      AUTO POSTO SAKAMOTO LTDA   49.051.667/0001-02   \n",
      "4         GASOL COMBUSTÃVEIS AUTOMOTIVOS LTDA.   00.603.738/0001-43   \n",
      "...                                         ...                  ...   \n",
      "10265778                SIM REDE DE POSTOS LTDA   07.473.735/0187-14   \n",
      "10265779                SIM REDE DE POSTOS LTDA   07.473.735/0188-03   \n",
      "10265780                SIM REDE DE POSTOS LTDA   07.473.735/0188-03   \n",
      "10265781                SIM REDE DE POSTOS LTDA   07.473.735/0188-03   \n",
      "10265782                SIM REDE DE POSTOS LTDA   07.473.735/0188-03   \n",
      "\n",
      "                                          Nome da Rua Numero Rua  \\\n",
      "0                            RODOVIA PRESIDENTE DUTRA        S/N   \n",
      "1                            RODOVIA PRESIDENTE DUTRA        S/N   \n",
      "2                            RODOVIA PRESIDENTE DUTRA        S/N   \n",
      "3                            RODOVIA PRESIDENTE DUTRA        S/N   \n",
      "4         QI-QUADRA INTERNA 18  LOTES 47, 49, 51 E 53        S/N   \n",
      "...                                               ...        ...   \n",
      "10265778                              RODOVIA ERS-130       2285   \n",
      "10265779                    AVENIDA BENJAMIN CONSTANT       2324   \n",
      "10265780                    AVENIDA BENJAMIN CONSTANT       2324   \n",
      "10265781                    AVENIDA BENJAMIN CONSTANT       2324   \n",
      "10265782                    AVENIDA BENJAMIN CONSTANT       2324   \n",
      "\n",
      "                  Complemento       Bairro        Cep             Produto  \\\n",
      "0         KM 210,5-SENT SP/RJ   BONSUCESSO  07178-580            GASOLINA   \n",
      "1         KM 210,5-SENT SP/RJ   BONSUCESSO  07178-580              ETANOL   \n",
      "2         KM 210,5-SENT SP/RJ   BONSUCESSO  07178-580              DIESEL   \n",
      "3         KM 210,5-SENT SP/RJ   BONSUCESSO  07178-580                 GNV   \n",
      "4                         NaN   TAGUATINGA  72315-000            GASOLINA   \n",
      "...                       ...          ...        ...                 ...   \n",
      "10265778           KM    72.8  SANTO ANDRE  95912-000                 GNV   \n",
      "10265779                  NaN    FLORESTAL  95900-702              ETANOL   \n",
      "10265780                  NaN    FLORESTAL  95900-702          DIESEL S10   \n",
      "10265781                  NaN    FLORESTAL  95900-702  GASOLINA ADITIVADA   \n",
      "10265782                  NaN    FLORESTAL  95900-702            GASOLINA   \n",
      "\n",
      "         Data da Coleta  Valor de Venda  Valor de Compra Unidade de Medida  \\\n",
      "0            02/01/2013           2.599           2.1955        R$ / litro   \n",
      "1            02/01/2013           1.859           1.5582        R$ / litro   \n",
      "2            02/01/2013           2.029              NaN        R$ / litro   \n",
      "3            02/01/2013           1.399              NaN          R$ / mÂ³   \n",
      "4            02/01/2013           2.830              NaN        R$ / litro   \n",
      "...                 ...             ...              ...               ...   \n",
      "10265778     26/06/2023           5.790              NaN          R$ / mÂ³   \n",
      "10265779     26/06/2023           4.680              NaN        R$ / litro   \n",
      "10265780     26/06/2023           4.680              NaN        R$ / litro   \n",
      "10265781     26/06/2023           5.390              NaN        R$ / litro   \n",
      "10265782     26/06/2023           5.260              NaN        R$ / litro   \n",
      "\n",
      "                              Bandeira   Ano  Semestre Regiao - Sigla  \n",
      "0         PETROBRAS DISTRIBUIDORA S.A.  2013         1            NaN  \n",
      "1         PETROBRAS DISTRIBUIDORA S.A.  2013         1            NaN  \n",
      "2         PETROBRAS DISTRIBUIDORA S.A.  2013         1            NaN  \n",
      "3         PETROBRAS DISTRIBUIDORA S.A.  2013         1            NaN  \n",
      "4         PETROBRAS DISTRIBUIDORA S.A.  2013         1            NaN  \n",
      "...                                ...   ...       ...            ...  \n",
      "10265778                       CHARRUA  2023         1            NaN  \n",
      "10265779                       CHARRUA  2023         1            NaN  \n",
      "10265780                       CHARRUA  2023         1            NaN  \n",
      "10265781                       CHARRUA  2023         1            NaN  \n",
      "10265782                       CHARRUA  2023         1            NaN  \n",
      "\n",
      "[10265783 rows x 19 columns]\n"
     ]
    }
   ],
   "source": [
    "diretorio  = 'datasets'\n",
    "\n",
    "lista_arquivos_csv = []\n",
    "lista_arquivos_csv = listar_diretorio(diretorio, '.csv')\n",
    "\n",
    "df_dados = pd.DataFrame()\n",
    "df_dados = carregar_arquivos(diretorio, lista_arquivos_csv)\n",
    "\n",
    "print(df_dados)\n",
    "\n"
   ]
  }
 ],
 "metadata": {
  "kernelspec": {
   "display_name": "Python 3",
   "language": "python",
   "name": "python3"
  },
  "language_info": {
   "codemirror_mode": {
    "name": "ipython",
    "version": 3
   },
   "file_extension": ".py",
   "mimetype": "text/x-python",
   "name": "python",
   "nbconvert_exporter": "python",
   "pygments_lexer": "ipython3",
   "version": "3.11.3"
  },
  "orig_nbformat": 4
 },
 "nbformat": 4,
 "nbformat_minor": 2
}
